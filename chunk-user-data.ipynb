{
 "cells": [
  {
   "cell_type": "code",
   "execution_count": 1,
   "id": "89b3eecf-e961-485a-b6fc-593a7d3eebca",
   "metadata": {},
   "outputs": [],
   "source": [
    "import pandas as pd"
   ]
  },
  {
   "cell_type": "code",
   "execution_count": null,
   "id": "d9dc9852-2dc0-468f-b34b-94e436ad56cd",
   "metadata": {},
   "outputs": [],
   "source": [
    "C:\\Users\\sudha\\OneDrive\\Desktop\\Data Engineering\\Darshil Parmar courses\\Apache Spark with Databricks\\Projects\\E-Commerce Project - Azure Data Engineering\\Data\\6M-0K-99K.users.dataset.public.csv"
   ]
  },
  {
   "cell_type": "code",
   "execution_count": 2,
   "id": "ebc8ae19-09d7-46f5-be6b-11ba9d1137b9",
   "metadata": {},
   "outputs": [],
   "source": [
    "df = pd.read_csv(r\"C:\\Users\\sudha\\OneDrive\\Desktop\\Data Engineering\\Darshil Parmar courses\\Apache Spark with Databricks\\Projects\\E-Commerce Project - Azure Data Engineering\\Data\\6M-0K-99K.users.dataset.public.csv\")"
   ]
  },
  {
   "cell_type": "code",
   "execution_count": 3,
   "id": "ead0b054-4cc9-4678-8e60-d7fb0a686c94",
   "metadata": {},
   "outputs": [
    {
     "data": {
      "text/html": [
       "<div>\n",
       "<style scoped>\n",
       "    .dataframe tbody tr th:only-of-type {\n",
       "        vertical-align: middle;\n",
       "    }\n",
       "\n",
       "    .dataframe tbody tr th {\n",
       "        vertical-align: top;\n",
       "    }\n",
       "\n",
       "    .dataframe thead th {\n",
       "        text-align: right;\n",
       "    }\n",
       "</style>\n",
       "<table border=\"1\" class=\"dataframe\">\n",
       "  <thead>\n",
       "    <tr style=\"text-align: right;\">\n",
       "      <th></th>\n",
       "      <th>identifierHash</th>\n",
       "      <th>type</th>\n",
       "      <th>country</th>\n",
       "      <th>language</th>\n",
       "      <th>socialNbFollowers</th>\n",
       "      <th>socialNbFollows</th>\n",
       "      <th>socialProductsLiked</th>\n",
       "      <th>productsListed</th>\n",
       "      <th>productsSold</th>\n",
       "      <th>productsPassRate</th>\n",
       "      <th>...</th>\n",
       "      <th>civilityTitle</th>\n",
       "      <th>hasAnyApp</th>\n",
       "      <th>hasAndroidApp</th>\n",
       "      <th>hasIosApp</th>\n",
       "      <th>hasProfilePicture</th>\n",
       "      <th>daysSinceLastLogin</th>\n",
       "      <th>seniority</th>\n",
       "      <th>seniorityAsMonths</th>\n",
       "      <th>seniorityAsYears</th>\n",
       "      <th>countryCode</th>\n",
       "    </tr>\n",
       "  </thead>\n",
       "  <tbody>\n",
       "    <tr>\n",
       "      <th>0</th>\n",
       "      <td>-7279641312655250028</td>\n",
       "      <td>user</td>\n",
       "      <td>Etats-Unis</td>\n",
       "      <td>en</td>\n",
       "      <td>3</td>\n",
       "      <td>8</td>\n",
       "      <td>0</td>\n",
       "      <td>0</td>\n",
       "      <td>0</td>\n",
       "      <td>0.0</td>\n",
       "      <td>...</td>\n",
       "      <td>mrs</td>\n",
       "      <td>False</td>\n",
       "      <td>False</td>\n",
       "      <td>False</td>\n",
       "      <td>True</td>\n",
       "      <td>709</td>\n",
       "      <td>3205</td>\n",
       "      <td>106.83</td>\n",
       "      <td>8.9</td>\n",
       "      <td>us</td>\n",
       "    </tr>\n",
       "    <tr>\n",
       "      <th>1</th>\n",
       "      <td>-1456013578740053406</td>\n",
       "      <td>user</td>\n",
       "      <td>Allemagne</td>\n",
       "      <td>de</td>\n",
       "      <td>3</td>\n",
       "      <td>8</td>\n",
       "      <td>0</td>\n",
       "      <td>0</td>\n",
       "      <td>0</td>\n",
       "      <td>0.0</td>\n",
       "      <td>...</td>\n",
       "      <td>mrs</td>\n",
       "      <td>False</td>\n",
       "      <td>False</td>\n",
       "      <td>False</td>\n",
       "      <td>True</td>\n",
       "      <td>709</td>\n",
       "      <td>3205</td>\n",
       "      <td>106.83</td>\n",
       "      <td>8.9</td>\n",
       "      <td>de</td>\n",
       "    </tr>\n",
       "    <tr>\n",
       "      <th>2</th>\n",
       "      <td>9006282053848196165</td>\n",
       "      <td>user</td>\n",
       "      <td>Suède</td>\n",
       "      <td>en</td>\n",
       "      <td>3</td>\n",
       "      <td>8</td>\n",
       "      <td>0</td>\n",
       "      <td>0</td>\n",
       "      <td>0</td>\n",
       "      <td>0.0</td>\n",
       "      <td>...</td>\n",
       "      <td>mr</td>\n",
       "      <td>True</td>\n",
       "      <td>False</td>\n",
       "      <td>True</td>\n",
       "      <td>True</td>\n",
       "      <td>689</td>\n",
       "      <td>3205</td>\n",
       "      <td>106.83</td>\n",
       "      <td>8.9</td>\n",
       "      <td>se</td>\n",
       "    </tr>\n",
       "    <tr>\n",
       "      <th>3</th>\n",
       "      <td>-7154634866120535654</td>\n",
       "      <td>user</td>\n",
       "      <td>Turquie</td>\n",
       "      <td>en</td>\n",
       "      <td>3</td>\n",
       "      <td>8</td>\n",
       "      <td>0</td>\n",
       "      <td>0</td>\n",
       "      <td>0</td>\n",
       "      <td>0.0</td>\n",
       "      <td>...</td>\n",
       "      <td>mrs</td>\n",
       "      <td>False</td>\n",
       "      <td>False</td>\n",
       "      <td>False</td>\n",
       "      <td>True</td>\n",
       "      <td>709</td>\n",
       "      <td>3205</td>\n",
       "      <td>106.83</td>\n",
       "      <td>8.9</td>\n",
       "      <td>tr</td>\n",
       "    </tr>\n",
       "    <tr>\n",
       "      <th>4</th>\n",
       "      <td>2858299215060733023</td>\n",
       "      <td>user</td>\n",
       "      <td>France</td>\n",
       "      <td>en</td>\n",
       "      <td>3</td>\n",
       "      <td>8</td>\n",
       "      <td>0</td>\n",
       "      <td>0</td>\n",
       "      <td>0</td>\n",
       "      <td>0.0</td>\n",
       "      <td>...</td>\n",
       "      <td>mr</td>\n",
       "      <td>True</td>\n",
       "      <td>False</td>\n",
       "      <td>True</td>\n",
       "      <td>True</td>\n",
       "      <td>709</td>\n",
       "      <td>3205</td>\n",
       "      <td>106.83</td>\n",
       "      <td>8.9</td>\n",
       "      <td>fr</td>\n",
       "    </tr>\n",
       "  </tbody>\n",
       "</table>\n",
       "<p>5 rows × 24 columns</p>\n",
       "</div>"
      ],
      "text/plain": [
       "        identifierHash  type     country language  socialNbFollowers  \\\n",
       "0 -7279641312655250028  user  Etats-Unis       en                  3   \n",
       "1 -1456013578740053406  user   Allemagne       de                  3   \n",
       "2  9006282053848196165  user       Suède       en                  3   \n",
       "3 -7154634866120535654  user     Turquie       en                  3   \n",
       "4  2858299215060733023  user      France       en                  3   \n",
       "\n",
       "   socialNbFollows  socialProductsLiked  productsListed  productsSold  \\\n",
       "0                8                    0               0             0   \n",
       "1                8                    0               0             0   \n",
       "2                8                    0               0             0   \n",
       "3                8                    0               0             0   \n",
       "4                8                    0               0             0   \n",
       "\n",
       "   productsPassRate  ...  civilityTitle  hasAnyApp hasAndroidApp  hasIosApp  \\\n",
       "0               0.0  ...            mrs      False         False      False   \n",
       "1               0.0  ...            mrs      False         False      False   \n",
       "2               0.0  ...             mr       True         False       True   \n",
       "3               0.0  ...            mrs      False         False      False   \n",
       "4               0.0  ...             mr       True         False       True   \n",
       "\n",
       "  hasProfilePicture  daysSinceLastLogin  seniority  seniorityAsMonths  \\\n",
       "0              True                 709       3205             106.83   \n",
       "1              True                 709       3205             106.83   \n",
       "2              True                 689       3205             106.83   \n",
       "3              True                 709       3205             106.83   \n",
       "4              True                 709       3205             106.83   \n",
       "\n",
       "   seniorityAsYears  countryCode  \n",
       "0               8.9           us  \n",
       "1               8.9           de  \n",
       "2               8.9           se  \n",
       "3               8.9           tr  \n",
       "4               8.9           fr  \n",
       "\n",
       "[5 rows x 24 columns]"
      ]
     },
     "execution_count": 3,
     "metadata": {},
     "output_type": "execute_result"
    }
   ],
   "source": [
    "df.head()"
   ]
  },
  {
   "cell_type": "code",
   "execution_count": 5,
   "id": "260e9b11-f3aa-4be7-8a43-5ffba320fb58",
   "metadata": {},
   "outputs": [
    {
     "data": {
      "text/plain": [
       "<bound method DataFrame.count of             identifierHash  type     country language  socialNbFollowers  \\\n",
       "0     -7279641312655250028  user  Etats-Unis       en                  3   \n",
       "1     -1456013578740053406  user   Allemagne       de                  3   \n",
       "2      9006282053848196165  user       Suède       en                  3   \n",
       "3     -7154634866120535654  user     Turquie       en                  3   \n",
       "4      2858299215060733023  user      France       en                  3   \n",
       "...                    ...   ...         ...      ...                ...   \n",
       "98908 -5324380437900495747  user  Etats-Unis       fr                  3   \n",
       "98909 -5607668753771114442  user      France       fr                  3   \n",
       "98910   350630276238833248  user    Belgique       en                  3   \n",
       "98911  2006580738726207028  user      Italie       it                  3   \n",
       "98912 -7621316584087253691  user      Guinée       fr                  3   \n",
       "\n",
       "       socialNbFollows  socialProductsLiked  productsListed  productsSold  \\\n",
       "0                    8                    0               0             0   \n",
       "1                    8                    0               0             0   \n",
       "2                    8                    0               0             0   \n",
       "3                    8                    0               0             0   \n",
       "4                    8                    0               0             0   \n",
       "...                ...                  ...             ...           ...   \n",
       "98908                8                    0               0             0   \n",
       "98909                8                    0               0             0   \n",
       "98910                8                    0               0             0   \n",
       "98911                8                    0               0             0   \n",
       "98912                8                    0               0             0   \n",
       "\n",
       "       productsPassRate  ...  civilityTitle  hasAnyApp hasAndroidApp  \\\n",
       "0                   0.0  ...            mrs      False         False   \n",
       "1                   0.0  ...            mrs      False         False   \n",
       "2                   0.0  ...             mr       True         False   \n",
       "3                   0.0  ...            mrs      False         False   \n",
       "4                   0.0  ...             mr       True         False   \n",
       "...                 ...  ...            ...        ...           ...   \n",
       "98908               0.0  ...             mr      False         False   \n",
       "98909               0.0  ...             mr       True         False   \n",
       "98910               0.0  ...             mr       True          True   \n",
       "98911               0.0  ...            mrs      False         False   \n",
       "98912               0.0  ...             mr       True         False   \n",
       "\n",
       "       hasIosApp hasProfilePicture  daysSinceLastLogin  seniority  \\\n",
       "0          False              True                 709       3205   \n",
       "1          False              True                 709       3205   \n",
       "2           True              True                 689       3205   \n",
       "3          False              True                 709       3205   \n",
       "4           True              True                 709       3205   \n",
       "...          ...               ...                 ...        ...   \n",
       "98908      False              True                 708       3204   \n",
       "98909       True              True                 695       3204   \n",
       "98910      False              True                 520       3204   \n",
       "98911      False              True                 267       3204   \n",
       "98912       True              True                 561       3204   \n",
       "\n",
       "       seniorityAsMonths  seniorityAsYears  countryCode  \n",
       "0                 106.83               8.9           us  \n",
       "1                 106.83               8.9           de  \n",
       "2                 106.83               8.9           se  \n",
       "3                 106.83               8.9           tr  \n",
       "4                 106.83               8.9           fr  \n",
       "...                  ...               ...          ...  \n",
       "98908             106.80               8.9           us  \n",
       "98909             106.80               8.9           fr  \n",
       "98910             106.80               8.9           be  \n",
       "98911             106.80               8.9           it  \n",
       "98912             106.80               8.9           gn  \n",
       "\n",
       "[98913 rows x 24 columns]>"
      ]
     },
     "execution_count": 5,
     "metadata": {},
     "output_type": "execute_result"
    }
   ],
   "source": [
    "df.count"
   ]
  },
  {
   "cell_type": "code",
   "execution_count": 44,
   "id": "259c2285-1a2a-4a4a-81b9-1e7ff5ac0ce5",
   "metadata": {},
   "outputs": [
    {
     "data": {
      "text/plain": [
       "identifierHash         20743\n",
       "type                   20743\n",
       "countryCode            20710\n",
       "country                20743\n",
       "language               20743\n",
       "socialNbFollowers      20743\n",
       "socialNbFollows        20743\n",
       "socialProductsLiked    20743\n",
       "productsListed         20743\n",
       "productsSold           20743\n",
       "productsPassRate       20743\n",
       "productsWished         20743\n",
       "productsBought         20743\n",
       "gender                 20743\n",
       "civilityGenderId       20743\n",
       "civilityTitle          20743\n",
       "hasProfilePicture      20743\n",
       "seniority              20743\n",
       "seniorityAsMonths      20743\n",
       "seniorityAsYears       20743\n",
       "websiteLongevity       20743\n",
       "dtype: int64"
      ]
     },
     "execution_count": 44,
     "metadata": {},
     "output_type": "execute_result"
    }
   ],
   "source": [
    "df.count()"
   ]
  },
  {
   "cell_type": "code",
   "execution_count": 6,
   "id": "59c8d142-4263-47fc-ba80-cc97be6ebc40",
   "metadata": {},
   "outputs": [
    {
     "data": {
      "text/plain": [
       "98913"
      ]
     },
     "execution_count": 6,
     "metadata": {},
     "output_type": "execute_result"
    }
   ],
   "source": [
    "len(df)"
   ]
  },
  {
   "cell_type": "code",
   "execution_count": 10,
   "id": "9587bc5b-0e12-49dc-84b8-c364baf2a341",
   "metadata": {},
   "outputs": [
    {
     "data": {
      "text/plain": [
       "50.0"
      ]
     },
     "execution_count": 10,
     "metadata": {},
     "output_type": "execute_result"
    }
   ],
   "source": [
    "100/2"
   ]
  },
  {
   "cell_type": "code",
   "execution_count": 11,
   "id": "b0e846ea-8812-41ea-b903-b7f294ad3813",
   "metadata": {},
   "outputs": [
    {
     "data": {
      "text/plain": [
       "50.5"
      ]
     },
     "execution_count": 11,
     "metadata": {},
     "output_type": "execute_result"
    }
   ],
   "source": [
    "101/2"
   ]
  },
  {
   "cell_type": "code",
   "execution_count": 12,
   "id": "3a077e9b-b608-40b0-89b6-ae18f5925032",
   "metadata": {},
   "outputs": [
    {
     "data": {
      "text/plain": [
       "50"
      ]
     },
     "execution_count": 12,
     "metadata": {},
     "output_type": "execute_result"
    }
   ],
   "source": [
    "100//2"
   ]
  },
  {
   "cell_type": "code",
   "execution_count": 13,
   "id": "3677c947-d0f7-4d32-9b71-a883f51af5b9",
   "metadata": {},
   "outputs": [
    {
     "data": {
      "text/plain": [
       "50"
      ]
     },
     "execution_count": 13,
     "metadata": {},
     "output_type": "execute_result"
    }
   ],
   "source": [
    "101//2"
   ]
  },
  {
   "cell_type": "code",
   "execution_count": 14,
   "id": "642192f0-c5c8-464f-a601-bc9df154f80a",
   "metadata": {},
   "outputs": [
    {
     "data": {
      "text/plain": [
       "49456.5"
      ]
     },
     "execution_count": 14,
     "metadata": {},
     "output_type": "execute_result"
    }
   ],
   "source": [
    "98913/2"
   ]
  },
  {
   "cell_type": "code",
   "execution_count": 15,
   "id": "eb48c7b0-21fe-4533-b4bf-9b38f3a47fed",
   "metadata": {},
   "outputs": [
    {
     "data": {
      "text/plain": [
       "49456"
      ]
     },
     "execution_count": 15,
     "metadata": {},
     "output_type": "execute_result"
    }
   ],
   "source": [
    "98913//2"
   ]
  },
  {
   "cell_type": "code",
   "execution_count": 16,
   "id": "58cc8905-9cfa-47f8-844e-aa9387e8fe4e",
   "metadata": {},
   "outputs": [
    {
     "data": {
      "text/plain": [
       "19782"
      ]
     },
     "execution_count": 16,
     "metadata": {},
     "output_type": "execute_result"
    }
   ],
   "source": [
    "98913//5"
   ]
  },
  {
   "cell_type": "code",
   "execution_count": 17,
   "id": "c13affb3-5b39-414c-8c8a-ddf5c2a48501",
   "metadata": {},
   "outputs": [
    {
     "data": {
      "text/plain": [
       "3"
      ]
     },
     "execution_count": 17,
     "metadata": {},
     "output_type": "execute_result"
    }
   ],
   "source": [
    "len(df)%5"
   ]
  },
  {
   "cell_type": "code",
   "execution_count": 20,
   "id": "2f408d5b-86de-49fd-b77c-6197857b7524",
   "metadata": {},
   "outputs": [
    {
     "data": {
      "text/plain": [
       "98913"
      ]
     },
     "execution_count": 20,
     "metadata": {},
     "output_type": "execute_result"
    }
   ],
   "source": [
    "len(df)"
   ]
  },
  {
   "cell_type": "code",
   "execution_count": 23,
   "id": "9cf1619a-d4e3-4f3e-9860-1a110e96f95a",
   "metadata": {},
   "outputs": [
    {
     "data": {
      "text/plain": [
       "19783"
      ]
     },
     "execution_count": 23,
     "metadata": {},
     "output_type": "execute_result"
    }
   ],
   "source": [
    "len(df)//5 + (1 if len(df) % 5 else 0)"
   ]
  },
  {
   "cell_type": "code",
   "execution_count": 18,
   "id": "ca095d18-cbb0-4d02-9c09-6b140c5a0428",
   "metadata": {},
   "outputs": [],
   "source": [
    "# Calculate the size of each chunk\n",
    "chunk_size = len(df) // 5 + (1 if len(df) % 5 else 0)"
   ]
  },
  {
   "cell_type": "code",
   "execution_count": 24,
   "id": "60bf430d-a116-416f-85f6-bd1380dea911",
   "metadata": {},
   "outputs": [
    {
     "data": {
      "text/plain": [
       "19783"
      ]
     },
     "execution_count": 24,
     "metadata": {},
     "output_type": "execute_result"
    }
   ],
   "source": [
    "chunk_size"
   ]
  },
  {
   "cell_type": "code",
   "execution_count": 26,
   "id": "6574c717-9b35-46a5-ac62-cfc79194c656",
   "metadata": {},
   "outputs": [],
   "source": [
    "# Calculate the size of each chunk\n",
    "chunk_size = len(df) // 5 + (1 if len(df) % 5 else 0)\n",
    "\n",
    "# Split the dataframe into chunks and save them\n",
    "for i in range(5):\n",
    "    start = i * chunk_size\n",
    "    end = start + chunk_size\n",
    "    chunk_df = df.iloc[start:end]\n",
    "    chunk_df.to_csv(f'C:/Users/sudha/OneDrive/Desktop/Data Engineering/Darshil Parmar courses/Apache Spark with Databricks/Projects/E-Commerce Project - Azure Data Engineering/Data/chunk-data/chunk{i+1}.csv', index=False)\n",
    "\n"
   ]
  },
  {
   "cell_type": "code",
   "execution_count": 37,
   "id": "9e5d4cac-e20c-41bd-930d-a3441d9fcf77",
   "metadata": {},
   "outputs": [],
   "source": [
    "df = pd.read_csv(r\"C:\\Users\\sudha\\OneDrive\\Desktop\\Data Engineering\\Darshil Parmar courses\\Apache Spark with Databricks\\Projects\\E-Commerce Project - Azure Data Engineering\\Data\\users.6M0xxK.2024.public.csv\")"
   ]
  },
  {
   "cell_type": "code",
   "execution_count": 38,
   "id": "7d080f58-bcc2-4d02-8300-a16fe9139872",
   "metadata": {},
   "outputs": [
    {
     "data": {
      "text/html": [
       "<div>\n",
       "<style scoped>\n",
       "    .dataframe tbody tr th:only-of-type {\n",
       "        vertical-align: middle;\n",
       "    }\n",
       "\n",
       "    .dataframe tbody tr th {\n",
       "        vertical-align: top;\n",
       "    }\n",
       "\n",
       "    .dataframe thead th {\n",
       "        text-align: right;\n",
       "    }\n",
       "</style>\n",
       "<table border=\"1\" class=\"dataframe\">\n",
       "  <thead>\n",
       "    <tr style=\"text-align: right;\">\n",
       "      <th></th>\n",
       "      <th>identifierHash</th>\n",
       "      <th>type</th>\n",
       "      <th>countryCode</th>\n",
       "      <th>country</th>\n",
       "      <th>language</th>\n",
       "      <th>socialNbFollowers</th>\n",
       "      <th>socialNbFollows</th>\n",
       "      <th>socialProductsLiked</th>\n",
       "      <th>productsListed</th>\n",
       "      <th>productsSold</th>\n",
       "      <th>...</th>\n",
       "      <th>productsWished</th>\n",
       "      <th>productsBought</th>\n",
       "      <th>gender</th>\n",
       "      <th>civilityGenderId</th>\n",
       "      <th>civilityTitle</th>\n",
       "      <th>hasProfilePicture</th>\n",
       "      <th>seniority</th>\n",
       "      <th>seniorityAsMonths</th>\n",
       "      <th>seniorityAsYears</th>\n",
       "      <th>websiteLongevity</th>\n",
       "    </tr>\n",
       "  </thead>\n",
       "  <tbody>\n",
       "    <tr>\n",
       "      <th>0</th>\n",
       "      <td>1920991140</td>\n",
       "      <td>user</td>\n",
       "      <td>us</td>\n",
       "      <td>Etats-Unis</td>\n",
       "      <td>en</td>\n",
       "      <td>3</td>\n",
       "      <td>8</td>\n",
       "      <td>0</td>\n",
       "      <td>0</td>\n",
       "      <td>0</td>\n",
       "      <td>...</td>\n",
       "      <td>0</td>\n",
       "      <td>0</td>\n",
       "      <td>M</td>\n",
       "      <td>1</td>\n",
       "      <td>mr</td>\n",
       "      <td>True</td>\n",
       "      <td>3206</td>\n",
       "      <td>106.87</td>\n",
       "      <td>8.91</td>\n",
       "      <td>3803</td>\n",
       "    </tr>\n",
       "    <tr>\n",
       "      <th>1</th>\n",
       "      <td>1920860068</td>\n",
       "      <td>user</td>\n",
       "      <td>se</td>\n",
       "      <td>Suède</td>\n",
       "      <td>en</td>\n",
       "      <td>3</td>\n",
       "      <td>8</td>\n",
       "      <td>1</td>\n",
       "      <td>0</td>\n",
       "      <td>0</td>\n",
       "      <td>...</td>\n",
       "      <td>0</td>\n",
       "      <td>0</td>\n",
       "      <td>M</td>\n",
       "      <td>1</td>\n",
       "      <td>mr</td>\n",
       "      <td>True</td>\n",
       "      <td>3206</td>\n",
       "      <td>106.87</td>\n",
       "      <td>8.91</td>\n",
       "      <td>3803</td>\n",
       "    </tr>\n",
       "    <tr>\n",
       "      <th>2</th>\n",
       "      <td>1920401316</td>\n",
       "      <td>user</td>\n",
       "      <td>it</td>\n",
       "      <td>Italie</td>\n",
       "      <td>fr</td>\n",
       "      <td>3</td>\n",
       "      <td>8</td>\n",
       "      <td>0</td>\n",
       "      <td>0</td>\n",
       "      <td>0</td>\n",
       "      <td>...</td>\n",
       "      <td>0</td>\n",
       "      <td>0</td>\n",
       "      <td>M</td>\n",
       "      <td>1</td>\n",
       "      <td>mr</td>\n",
       "      <td>True</td>\n",
       "      <td>3206</td>\n",
       "      <td>106.87</td>\n",
       "      <td>8.91</td>\n",
       "      <td>3803</td>\n",
       "    </tr>\n",
       "    <tr>\n",
       "      <th>3</th>\n",
       "      <td>1919811492</td>\n",
       "      <td>user</td>\n",
       "      <td>dk</td>\n",
       "      <td>Danemark</td>\n",
       "      <td>en</td>\n",
       "      <td>75</td>\n",
       "      <td>10</td>\n",
       "      <td>1968</td>\n",
       "      <td>0</td>\n",
       "      <td>0</td>\n",
       "      <td>...</td>\n",
       "      <td>43</td>\n",
       "      <td>15</td>\n",
       "      <td>M</td>\n",
       "      <td>1</td>\n",
       "      <td>mr</td>\n",
       "      <td>True</td>\n",
       "      <td>3206</td>\n",
       "      <td>106.87</td>\n",
       "      <td>8.91</td>\n",
       "      <td>3803</td>\n",
       "    </tr>\n",
       "    <tr>\n",
       "      <th>4</th>\n",
       "      <td>1919025060</td>\n",
       "      <td>user</td>\n",
       "      <td>de</td>\n",
       "      <td>Allemagne</td>\n",
       "      <td>de</td>\n",
       "      <td>3</td>\n",
       "      <td>8</td>\n",
       "      <td>0</td>\n",
       "      <td>0</td>\n",
       "      <td>0</td>\n",
       "      <td>...</td>\n",
       "      <td>0</td>\n",
       "      <td>0</td>\n",
       "      <td>M</td>\n",
       "      <td>1</td>\n",
       "      <td>mr</td>\n",
       "      <td>True</td>\n",
       "      <td>3206</td>\n",
       "      <td>106.87</td>\n",
       "      <td>8.91</td>\n",
       "      <td>3803</td>\n",
       "    </tr>\n",
       "  </tbody>\n",
       "</table>\n",
       "<p>5 rows × 21 columns</p>\n",
       "</div>"
      ],
      "text/plain": [
       "   identifierHash  type countryCode     country language  socialNbFollowers  \\\n",
       "0      1920991140  user          us  Etats-Unis       en                  3   \n",
       "1      1920860068  user          se       Suède       en                  3   \n",
       "2      1920401316  user          it      Italie       fr                  3   \n",
       "3      1919811492  user          dk    Danemark       en                 75   \n",
       "4      1919025060  user          de   Allemagne       de                  3   \n",
       "\n",
       "   socialNbFollows  socialProductsLiked  productsListed  productsSold  ...  \\\n",
       "0                8                    0               0             0  ...   \n",
       "1                8                    1               0             0  ...   \n",
       "2                8                    0               0             0  ...   \n",
       "3               10                 1968               0             0  ...   \n",
       "4                8                    0               0             0  ...   \n",
       "\n",
       "   productsWished  productsBought  gender civilityGenderId  civilityTitle  \\\n",
       "0               0               0       M                1             mr   \n",
       "1               0               0       M                1             mr   \n",
       "2               0               0       M                1             mr   \n",
       "3              43              15       M                1             mr   \n",
       "4               0               0       M                1             mr   \n",
       "\n",
       "  hasProfilePicture  seniority  seniorityAsMonths  seniorityAsYears  \\\n",
       "0              True       3206             106.87              8.91   \n",
       "1              True       3206             106.87              8.91   \n",
       "2              True       3206             106.87              8.91   \n",
       "3              True       3206             106.87              8.91   \n",
       "4              True       3206             106.87              8.91   \n",
       "\n",
       "   websiteLongevity  \n",
       "0              3803  \n",
       "1              3803  \n",
       "2              3803  \n",
       "3              3803  \n",
       "4              3803  \n",
       "\n",
       "[5 rows x 21 columns]"
      ]
     },
     "execution_count": 38,
     "metadata": {},
     "output_type": "execute_result"
    }
   ],
   "source": [
    "df.head()"
   ]
  },
  {
   "cell_type": "code",
   "execution_count": 39,
   "id": "971e615c-515e-438e-ade3-024edf1d8c32",
   "metadata": {},
   "outputs": [
    {
     "data": {
      "text/plain": [
       "<bound method DataFrame.count of        identifierHash  type countryCode     country language  \\\n",
       "0          1920991140  user          us  Etats-Unis       en   \n",
       "1          1920860068  user          se       Suède       en   \n",
       "2          1920401316  user          it      Italie       fr   \n",
       "3          1919811492  user          dk    Danemark       en   \n",
       "4          1919025060  user          de   Allemagne       de   \n",
       "...               ...   ...         ...         ...      ...   \n",
       "20738      3960012706  user          gr       Grèce       en   \n",
       "20739      3959750562  user          fr      France       fr   \n",
       "20740      3959488418  user          es     Espagne       es   \n",
       "20741      3958964130  user          at    Autriche       de   \n",
       "20742      3958701986  user          us  Etats-Unis       fr   \n",
       "\n",
       "       socialNbFollowers  socialNbFollows  socialProductsLiked  \\\n",
       "0                      3                8                    0   \n",
       "1                      3                8                    1   \n",
       "2                      3                8                    0   \n",
       "3                     75               10                 1968   \n",
       "4                      3                8                    0   \n",
       "...                  ...              ...                  ...   \n",
       "20738                  4               10                   54   \n",
       "20739                  3                8                   11   \n",
       "20740                  3                8                    0   \n",
       "20741                  3                8                   70   \n",
       "20742                  3                8                   10   \n",
       "\n",
       "       productsListed  productsSold  ...  productsWished  productsBought  \\\n",
       "0                   0             0  ...               0               0   \n",
       "1                   0             0  ...               0               0   \n",
       "2                   0             0  ...               0               0   \n",
       "3                   0             0  ...              43              15   \n",
       "4                   0             0  ...               0               0   \n",
       "...               ...           ...  ...             ...             ...   \n",
       "20738               0             0  ...              16               0   \n",
       "20739               0             0  ...               0               0   \n",
       "20740               0             0  ...               0               0   \n",
       "20741               0             0  ...               0               0   \n",
       "20742               0             0  ...               0               1   \n",
       "\n",
       "       gender civilityGenderId  civilityTitle hasProfilePicture  seniority  \\\n",
       "0           M                1             mr              True       3206   \n",
       "1           M                1             mr              True       3206   \n",
       "2           M                1             mr              True       3206   \n",
       "3           M                1             mr              True       3206   \n",
       "4           M                1             mr              True       3206   \n",
       "...       ...              ...            ...               ...        ...   \n",
       "20738       M                1             mr              True       2853   \n",
       "20739       M                1             mr              True       2853   \n",
       "20740       M                1             mr              True       2853   \n",
       "20741       M                1             mr              True       2853   \n",
       "20742       M                1             mr              True       2853   \n",
       "\n",
       "       seniorityAsMonths  seniorityAsYears  websiteLongevity  \n",
       "0                 106.87              8.91              3803  \n",
       "1                 106.87              8.91              3803  \n",
       "2                 106.87              8.91              3803  \n",
       "3                 106.87              8.91              3803  \n",
       "4                 106.87              8.91              3803  \n",
       "...                  ...               ...               ...  \n",
       "20738              95.10              7.92              3803  \n",
       "20739              95.10              7.92              3803  \n",
       "20740              95.10              7.92              3803  \n",
       "20741              95.10              7.92              3803  \n",
       "20742              95.10              7.92              3803  \n",
       "\n",
       "[20743 rows x 21 columns]>"
      ]
     },
     "execution_count": 39,
     "metadata": {},
     "output_type": "execute_result"
    }
   ],
   "source": [
    "df_new.count"
   ]
  },
  {
   "cell_type": "code",
   "execution_count": 40,
   "id": "5f73b711-0ee7-4fd5-8fed-086d804db8ab",
   "metadata": {},
   "outputs": [
    {
     "data": {
      "text/plain": [
       "20743"
      ]
     },
     "execution_count": 40,
     "metadata": {},
     "output_type": "execute_result"
    }
   ],
   "source": [
    "len(df)"
   ]
  },
  {
   "cell_type": "code",
   "execution_count": 41,
   "id": "babdb98d-86cc-43f5-9891-b2f801ec61ac",
   "metadata": {},
   "outputs": [
    {
     "data": {
      "text/plain": [
       "3"
      ]
     },
     "execution_count": 41,
     "metadata": {},
     "output_type": "execute_result"
    }
   ],
   "source": [
    "len(df) % 5"
   ]
  },
  {
   "cell_type": "code",
   "execution_count": 32,
   "id": "aa51956b-e0fb-4501-9929-54ae5fb95d31",
   "metadata": {},
   "outputs": [
    {
     "data": {
      "text/plain": [
       "4148"
      ]
     },
     "execution_count": 32,
     "metadata": {},
     "output_type": "execute_result"
    }
   ],
   "source": [
    "20743//5"
   ]
  },
  {
   "cell_type": "code",
   "execution_count": 42,
   "id": "36581723-91a1-4495-85c6-3626a0497683",
   "metadata": {},
   "outputs": [
    {
     "data": {
      "text/plain": [
       "4149"
      ]
     },
     "execution_count": 42,
     "metadata": {},
     "output_type": "execute_result"
    }
   ],
   "source": [
    "len(df) // 5 + (1 if len(df) % 5 else 0)"
   ]
  },
  {
   "cell_type": "code",
   "execution_count": null,
   "id": "e3d309f3-11bb-4a7b-b093-9cdea40a46fa",
   "metadata": {},
   "outputs": [],
   "source": []
  },
  {
   "cell_type": "code",
   "execution_count": 43,
   "id": "d054ec74-f2db-4501-9d18-caf13190f97b",
   "metadata": {},
   "outputs": [],
   "source": [
    "\n",
    "# Calculate the size of each chunk\n",
    "chunk_size = len(df) // 5 + (1 if len(df) % 5 else 0)\n",
    "\n",
    "# Split the dataframe into chunks and save them\n",
    "for i in range(5):\n",
    "    start = i * chunk_size\n",
    "    end = start + chunk_size\n",
    "    chunk_df = df.iloc[start:end]\n",
    "    chunk_df.to_csv(f'C:/Users/sudha/OneDrive/Desktop/Data Engineering/Darshil Parmar courses/Apache Spark with Databricks/Projects/E-Commerce Project - Azure Data Engineering/Data/chunk-data/chunk{i+5+1}.csv', index=False)\n"
   ]
  },
  {
   "cell_type": "code",
   "execution_count": null,
   "id": "b7fb47a9-e7d9-4c54-878d-c423f9aa4558",
   "metadata": {},
   "outputs": [],
   "source": []
  }
 ],
 "metadata": {
  "kernelspec": {
   "display_name": "Python 3 (ipykernel)",
   "language": "python",
   "name": "python3"
  },
  "language_info": {
   "codemirror_mode": {
    "name": "ipython",
    "version": 3
   },
   "file_extension": ".py",
   "mimetype": "text/x-python",
   "name": "python",
   "nbconvert_exporter": "python",
   "pygments_lexer": "ipython3",
   "version": "3.12.0"
  }
 },
 "nbformat": 4,
 "nbformat_minor": 5
}
